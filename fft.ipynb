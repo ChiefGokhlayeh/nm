{
 "cells": [
  {
   "cell_type": "markdown",
   "metadata": {},
   "source": [
    "# The Fast Fourier Transform\n",
    "\n",
    "This notebook explores the ideas behind the Fast Fourier Transform or FFT as a method of _quickly_ calculating the DFT of a sample vector.\n",
    "\n",
    "## Setup\n",
    "\n",
    "We first do some imports of common libraries. While libraries like NumPy already contain a way more efficient [FFT](https://numpy.org/doc/stable/reference/generated/numpy.fft.fft.html) implementation, the purpose of this notebook is to write our own (very limit) version."
   ]
  },
  {
   "cell_type": "code",
   "execution_count": null,
   "metadata": {},
   "outputs": [],
   "source": [
    "import numpy as np\n",
    "import matplotlib.pyplot as plt"
   ]
  },
  {
   "cell_type": "markdown",
   "metadata": {},
   "source": [
    "## Little Helpers\n",
    "\n",
    "Small helper functions to check if $n$ is a power of $2$."
   ]
  },
  {
   "cell_type": "code",
   "execution_count": null,
   "metadata": {},
   "outputs": [],
   "source": [
    "def ispow2(n: int):\n",
    "    return (n & (n - 1) == 0) and n != 0"
   ]
  },
  {
   "cell_type": "markdown",
   "metadata": {},
   "source": [
    "## Implementing the FFT\n",
    "\n",
    "Here we finally implement our very simple variant of the FFT. We only handle inputs of length $2^k, k \\in \\mathbb{N}_{0}$. Other implementations of FFT exist, in which the input can be of any length (such as NumPy's [`numpy.fft.fft()`](https://numpy.org/doc/stable/reference/generated/numpy.fft.fft.html)), but those are a little more complicated."
   ]
  },
  {
   "cell_type": "code",
   "execution_count": null,
   "metadata": {},
   "outputs": [],
   "source": [
    "def fft(samples: np.ndarray):\n",
    "    n = samples.shape[0]\n",
    "    # assure order of samples is power of 2\n",
    "    assert ispow2(n)\n",
    "\n",
    "    # ensure recurson stops!\n",
    "    if n == 1:\n",
    "        return samples\n",
    "\n",
    "    unity_root = np.exp(-2j * np.pi / n)\n",
    "\n",
    "    # select every other element (0, 2, 4, ...)\n",
    "    samples_even = samples[::2]\n",
    "    # select every other element ... starting from 1 (1, 3, 5, ...)\n",
    "    samples_odd = samples[1::2]\n",
    "\n",
    "    y_even, y_odd = fft(samples_even), fft(samples_odd)\n",
    "\n",
    "    y = np.empty(n, dtype=complex)\n",
    "    for k in range(n // 2):\n",
    "        y[k] = y_even[k] + y_odd[k] * unity_root ** k\n",
    "        y[k + n // 2] = y_even[k] - y_odd[k] * unity_root ** k\n",
    "\n",
    "    return y"
   ]
  },
  {
   "cell_type": "markdown",
   "metadata": {},
   "source": [
    "## Testing\n",
    "\n",
    "Play through some values and check against a _trusted_ FFT implementation."
   ]
  },
  {
   "cell_type": "code",
   "execution_count": null,
   "metadata": {},
   "outputs": [],
   "source": [
    "samples = np.arange(2 ** 3)\n",
    "\n",
    "# Let's test our FFT\n",
    "a = fft(samples)\n",
    "\n",
    "# For comparison reasons, let's also try NumPy's FFT\n",
    "b = np.fft.fft(samples)\n",
    "\n",
    "print(f\"Our FFT:\\n{a}\\n\")\n",
    "print(f\"NumPy FFT:\\n{b}\\n\")\n",
    "print(f\"Are they the same?\\n{np.allclose(a, b)}\\n\")"
   ]
  },
  {
   "cell_type": "markdown",
   "metadata": {},
   "source": [
    "## Understanding the Output of the FFT\n",
    "\n",
    "Let's try a bit more realitic example of a square wave."
   ]
  },
  {
   "cell_type": "code",
   "execution_count": null,
   "metadata": {},
   "outputs": [],
   "source": [
    "s = np.pad(np.ones(102), pad_width=(0, 922))\n",
    "\n",
    "plt.figure(figsize=(15, 3))\n",
    "plt.title(f\"Square wave with {s.shape[0]} samples: 1/10th duty cycle\")\n",
    "plt.xlabel(\"sample\")\n",
    "plt.ylabel(\"amplitude\")\n",
    "plt.plot(s)\n",
    "plt.grid(True)\n",
    "\n",
    "\n",
    "plt.show()"
   ]
  },
  {
   "cell_type": "markdown",
   "metadata": {},
   "source": [
    "Calculating the FFT and naively plotting the output vector reveals something seemingly odd about the order of the returned coefficients.\n",
    "\n",
    "The frequency components returned by the FFT seem to be in the _wrong_ order. Well, not necessarily wrong, but maybe unintuitive at first. To understand what's going on, think of the indicies we use to the frequency component vector as angles around the **complex unit-circle**. This circle is cut into N equal slices, as we have N elements in our component vector. We start index $0$, which represents an angle of $0^{\\circ}$ or $0 \\cdot \\pi$ radians. This is the $0$ Hz, or DC offset of our signal. In our case, $1 / 10$ times the amplitude of our rectangular pulse. Next we walk around the unit-circle counter-clockwise. Index $n = 1$ would be $\\frac{1}{N} \\cdot 2 \\pi$. The same logic applies to every other index. The general formula to convert from index $n$ to frequency component $\\omega$ is: $$\\omega = \\frac{n}{N} \\cdot 2 \\pi \\cdot \\omega_{0}$$ With $\\omega_{0}$ representing the sampling frequency."
   ]
  },
  {
   "cell_type": "code",
   "execution_count": null,
   "metadata": {},
   "outputs": [],
   "source": [
    "S = fft(s)\n",
    "S_abs = np.abs(S) / S.shape[0]\n",
    "\n",
    "plt.figure(figsize=(15, 3))\n",
    "plt.title(\"FFT output\")\n",
    "plt.xlabel(\"frequency bins\")\n",
    "plt.ylabel(\"absolute\")\n",
    "plt.plot(S_abs)\n",
    "plt.grid(True)\n",
    "\n",
    "plt.annotate(\"bin 0: $0 \\\\cdot \\\\omega_{{0}}$ or DC offset\",\n",
    "             xy=(0, S_abs[0]),\n",
    "             xytext=(-50, 20),\n",
    "             xycoords=\"data\",\n",
    "             textcoords=\"offset pixels\",\n",
    "             arrowprops={'arrowstyle': 'wedge'})\n",
    "plt.annotate(f\"bin {1}: $\\\\frac{{1}}{{{S_abs.shape[0]}}} \"\n",
    "             \"\\\\cdot 2 \\\\pi \\\\cdot \\\\omega_{{0}}$\",\n",
    "             xy=(1, S_abs[1]),\n",
    "             xytext=(100, -20),\n",
    "             xycoords=\"data\",\n",
    "             textcoords=\"offset pixels\",\n",
    "             arrowprops={'arrowstyle': 'wedge'})\n",
    "plt.annotate(f\"bin {100}: $\\\\frac{{100}}{{{S_abs.shape[0]}}} \"\n",
    "             \"\\\\cdot 2 \\\\pi \\\\cdot \\\\omega_{{0}}$\",\n",
    "             xy=(100, S_abs[100]),\n",
    "             xytext=(50, 20),\n",
    "             xycoords=\"data\",\n",
    "             textcoords=\"offset pixels\",\n",
    "             arrowprops={'arrowstyle': 'wedge'})\n",
    "plt.annotate(f\"bin {S_abs.shape[0] // 2}: $\\\\omega_{{0}} \"\n",
    "             \"\\\\cdot \\\\pi$ or Nyquist Frequency\",\n",
    "             xy=(S_abs.shape[0] // 2, S_abs[S_abs.shape[0] // 2]),\n",
    "             xytext=(-100, 20),\n",
    "             xycoords=\"data\",\n",
    "             textcoords=\"offset pixels\",\n",
    "             arrowprops={'arrowstyle': 'wedge'})\n",
    "plt.annotate(f\"bin {950}: $\\\\frac{{950}}{{{S_abs.shape[0]}}} \"\n",
    "             \"\\\\cdot 2 \\\\pi \\\\cdot \\\\omega_{{0}}$\",\n",
    "             xy=(950, S_abs[950]),\n",
    "             xytext=(-100, 40),\n",
    "             xycoords=\"data\",\n",
    "             textcoords=\"offset pixels\",\n",
    "             arrowprops={'arrowstyle': 'wedge'})\n",
    "plt.annotate(f\"bin {S_abs.shape[0] - 1}: \"\n",
    "             f\"$\\\\frac{{{S_abs.shape[0] - 1}}}{{{S_abs.shape[0]}}} \"\n",
    "             \"\\\\cdot 2 \\\\pi \\\\cdot \\\\omega_{{0}}$\",\n",
    "             xy=(S_abs.shape[0] - 1, S_abs[-1]),\n",
    "             xytext=(-100, 20),\n",
    "             xycoords=\"data\",\n",
    "             textcoords=\"offset pixels\",\n",
    "             arrowprops={'arrowstyle': 'wedge'})\n",
    "\n",
    "plt.show()"
   ]
  },
  {
   "cell_type": "markdown",
   "metadata": {},
   "source": [
    "To fix this, we can simply reshuffle the frequency bins a bit. NumPy conveniently offers the function [`np.fft.fftshift()`](https://numpy.org/devdocs/reference/generated/numpy.fft.fftshift.html?highlight=fftshift#numpy.fft.fftshift), which shifts the zero-frequency component to the center of the array. Around that, the left half of the array is filled with the frequency components $\\pi \\le \\omega \\lt 2 \\pi$ (_negative_ frequencies) and the right half with components $0 \\lt \\omega \\lt \\pi$. **Neat!**"
   ]
  },
  {
   "cell_type": "code",
   "execution_count": null,
   "metadata": {},
   "outputs": [],
   "source": [
    "S_pwr = S_abs / S.shape[0]\n",
    "\n",
    "plt.figure(figsize=(15, 3))\n",
    "plt.title(\"Frequency Spectrum of square wave\")\n",
    "plt.xlabel(\"frequency bins\")\n",
    "plt.ylabel(\"power\")\n",
    "plt.plot(np.arange(-S.shape[0] // 2, S.shape[0] // 2), np.fft.fftshift(S_pwr))\n",
    "plt.grid(True)\n",
    "\n",
    "plt.annotate(\"bin 0: $0 \\\\cdot \\\\omega_{{0}}$ or DC offset\",\n",
    "             xy=(0, S_pwr[0]),\n",
    "             xytext=(50, -10),\n",
    "             xycoords=\"data\",\n",
    "             textcoords=\"offset pixels\",\n",
    "             arrowprops={'arrowstyle': 'wedge'})\n",
    "\n",
    "plt.show()"
   ]
  },
  {
   "cell_type": "code",
   "execution_count": null,
   "metadata": {},
   "outputs": [],
   "source": []
  }
 ],
 "metadata": {
  "kernelspec": {
   "display_name": "Python 3.9.5 64-bit ('.venv')",
   "name": "python395jvsc74a57bd0369a99326dfccc585bfac07e4f16cf9bf2aa8a2982fd6bff724b05ee059c886e"
  },
  "language_info": {
   "codemirror_mode": {
    "name": "ipython",
    "version": 3
   },
   "file_extension": ".py",
   "mimetype": "text/x-python",
   "name": "python",
   "nbconvert_exporter": "python",
   "pygments_lexer": "ipython3",
   "version": "3.9.5"
  }
 },
 "nbformat": 4,
 "nbformat_minor": 2
}
