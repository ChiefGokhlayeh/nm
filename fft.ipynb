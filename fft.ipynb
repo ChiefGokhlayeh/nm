{
 "cells": [
  {
   "cell_type": "markdown",
   "metadata": {},
   "source": [
    "# The Fast Fourier Transform\n",
    "\n",
    "This notebook explores the ideas behind the Fast Fourier Transform or FFT as a method of _quickly_ calculating the product of two polynomials.\n",
    "\n",
    "## Setup\n",
    "\n",
    "We first do some imports of common libraries. While libraries like NumPy already contain a way more efficient [FFT](https://numpy.org/doc/stable/reference/generated/numpy.fft.fft.html) implementation, the purpose of this notebook is to write our own (very limit) version."
   ]
  },
  {
   "cell_type": "code",
   "execution_count": null,
   "metadata": {},
   "outputs": [],
   "source": [
    "import numpy as np"
   ]
  },
  {
   "cell_type": "markdown",
   "metadata": {},
   "source": [
    "## Little Helpers\n",
    "\n",
    "Small helper functions to check if $n$ is a power of $2$."
   ]
  },
  {
   "cell_type": "code",
   "execution_count": null,
   "metadata": {},
   "outputs": [],
   "source": [
    "def ispow2(n: int):\n",
    "    return (n & (n - 1) == 0) and n != 0"
   ]
  },
  {
   "cell_type": "markdown",
   "metadata": {},
   "source": [
    "## Implementing the FFT\n",
    "\n",
    "Here we finally implement our very simple variant of the FFT. We only handle inputs of length $2^k, k \\in \\mathbb{N}_{0}$. Other implementations of FFT exist, in which the input can be of any length (such as NumPy's [`numpy.fft.fff()`](https://numpy.org/doc/stable/reference/generated/numpy.fft.fft.html)), but those are a little more complicated."
   ]
  },
  {
   "cell_type": "code",
   "execution_count": null,
   "metadata": {},
   "outputs": [],
   "source": [
    "def fft(polynomial: np.typing.ArrayLike):\n",
    "    polynomial = np.asarray(polynomial)\n",
    "    n = len(polynomial)\n",
    "    # assure order of polynomial is power of 2\n",
    "    assert ispow2(n)\n",
    "\n",
    "    # ensure recurson stops!\n",
    "    if n == 1:\n",
    "        return polynomial\n",
    "\n",
    "    unity_root = np.exp(2j * np.pi / n)\n",
    "\n",
    "    # select every other element (0, 2, 4, ...)\n",
    "    polynomial_even = polynomial[::2]\n",
    "    # select every other element ... starting from 1 (1, 3, 5, ...)\n",
    "    polynomial_odd = polynomial[1::2]\n",
    "\n",
    "    y_even, y_odd = fft(polynomial_even), fft(polynomial_odd)\n",
    "\n",
    "    y = np.empty(n, dtype=complex)\n",
    "    for k in range(n // 2):\n",
    "        y[k] = y_even[k] + unity_root ** -k * y_odd[k]\n",
    "        y[k + n // 2] = y_even[k] - unity_root ** -k * y_odd[k]\n",
    "\n",
    "    return y"
   ]
  },
  {
   "cell_type": "markdown",
   "metadata": {},
   "source": [
    "## Testing\n",
    "\n",
    "Play through some values and check against a _trusted_ FFT implementation."
   ]
  },
  {
   "cell_type": "code",
   "execution_count": null,
   "metadata": {},
   "outputs": [],
   "source": [
    "polynomial = range(2 ** 3)\n",
    "\n",
    "# Let's test our FFT\n",
    "a = fft(polynomial)\n",
    "\n",
    "# For comparison reasons, let's also try NumPy's FFT\n",
    "b = np.fft.fft(polynomial)\n",
    "\n",
    "print(f\"Our FFT:\\n{a}\\n\")\n",
    "print(f\"NumPy FFT:\\n{b}\\n\")\n",
    "print(f\"Are they the same?\\n{np.allclose(a, b)}\\n\")"
   ]
  }
 ],
 "metadata": {
  "kernelspec": {
   "display_name": "Python 3.9.5 64-bit ('.venv')",
   "language": "python",
   "name": "python395jvsc74a57bd0369a99326dfccc585bfac07e4f16cf9bf2aa8a2982fd6bff724b05ee059c886e"
  },
  "language_info": {
   "codemirror_mode": {
    "name": "ipython",
    "version": 3
   },
   "file_extension": ".py",
   "mimetype": "text/x-python",
   "name": "python",
   "nbconvert_exporter": "python",
   "pygments_lexer": "ipython3",
   "version": "3.9.5"
  }
 },
 "nbformat": 4,
 "nbformat_minor": 2
}
